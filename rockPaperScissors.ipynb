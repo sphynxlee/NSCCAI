{
  "nbformat": 4,
  "nbformat_minor": 0,
  "metadata": {
    "colab": {
      "provenance": [],
      "toc_visible": true,
      "authorship_tag": "ABX9TyPvbOLc7tzgDggXnYSiQLeZ",
      "include_colab_link": true
    },
    "kernelspec": {
      "name": "python3",
      "display_name": "Python 3"
    },
    "language_info": {
      "name": "python"
    }
  },
  "cells": [
    {
      "cell_type": "markdown",
      "metadata": {
        "id": "view-in-github",
        "colab_type": "text"
      },
      "source": [
        "<a href=\"https://colab.research.google.com/github/sphynxlee/NSCCAI/blob/dev/rockPaperScissors.ipynb\" target=\"_parent\"><img src=\"https://colab.research.google.com/assets/colab-badge.svg\" alt=\"Open In Colab\"/></a>"
      ]
    },
    {
      "cell_type": "code",
      "execution_count": 8,
      "metadata": {
        "id": "d8QcpXmgeymO",
        "colab": {
          "base_uri": "https://localhost:8080/"
        },
        "outputId": "652b58c1-9a7c-4974-dc79-9de42c7d15bd"
      },
      "outputs": [
        {
          "output_type": "stream",
          "name": "stdout",
          "text": [
            "Please input your choice, rock[r], paper[p], scissors[s]: r\n",
            "computer covers your rock\n"
          ]
        }
      ],
      "source": [
        "# rock paper scissors\n",
        "import random;\n",
        "\n",
        "choices = [\"r\", \"p\", \"s\"];\n",
        "result = random.choice(choices);\n",
        "# print(result);\n",
        "userInput = input(\"Please input your choice, rock[r], paper[p], scissors[s]: \");\n",
        "\n",
        "# do battle\n",
        "if (result == userInput):\n",
        "  print(\"You tied the computer, you both chose: \", userInput);\n",
        "elif (userInput == \"r\" and result == \"p\"):\n",
        "  print(\"computer covers your rock\");\n",
        "elif (userInput == \"r\" and result == \"s\"):\n",
        "  print(\"you win by smashing the computer's scissors\");\n",
        "elif (userInput == \"p\" and result == \"s\"):\n",
        "  print(\"computer snips your paper\");\n",
        "elif (userInput == \"p\" and result == \"r\"):\n",
        "  print(\"you win by covering the computer's rock\");\n",
        "elif (userInput == \"s\" and result == \"p\"):\n",
        "  print(\"you cut up computer's paper\");\n",
        "elif (userInput == \"s\" and result == \"r\"):\n",
        "  print(\"computer smashes your scissor with a rock. bad computer\");\n",
        "else:\n",
        "  print(\"You entered something inappropriate. bad human\");\n"
      ]
    },
    {
      "cell_type": "code",
      "source": [
        "canadian_cities = ['Halifax', 'Ottawa', 'Edmonton', 'Victoria'];\n",
        "us_cities = ['New York', 'Los Angeles', 'Washington', 'San Fransico'];\n",
        "spanish_cities = ['Valencia', 'Madrid', 'Seville', 'Barcelona'];\n",
        "\n",
        "all_cities = [canadian_cities, us_cities, spanish_cities];\n",
        "\n",
        "print('all_cities[2]: ', all_cities[2]);\n",
        "print('all_cities[1][2]: ', all_cities[1][2]);"
      ],
      "metadata": {
        "colab": {
          "base_uri": "https://localhost:8080/"
        },
        "id": "zSPmQUj-faoT",
        "outputId": "145da714-779b-4295-bb7c-b9721f1742b3"
      },
      "execution_count": 9,
      "outputs": [
        {
          "output_type": "stream",
          "name": "stdout",
          "text": [
            "all_cities[2]:  ['Valencia', 'Madrid', 'Seville', 'Barcelona']\n",
            "all_cities[1][2]:  Washington\n"
          ]
        }
      ]
    },
    {
      "cell_type": "code",
      "source": [
        "# function\n",
        "def isEven (num):\n",
        "  if (num % 2 == 0):\n",
        "    return True;\n",
        "  else:\n",
        "    return False;\n",
        "\n",
        "print(isEven(61));"
      ],
      "metadata": {
        "colab": {
          "base_uri": "https://localhost:8080/"
        },
        "id": "OTZfbsjWju1S",
        "outputId": "2c9af6a3-1719-4564-83c6-c5bc1ff37613"
      },
      "execution_count": 10,
      "outputs": [
        {
          "output_type": "stream",
          "name": "stdout",
          "text": [
            "False\n"
          ]
        }
      ]
    },
    {
      "cell_type": "code",
      "source": [
        "def isPrime (num):\n",
        "  isPrime = True;\n",
        "  num = int(num);\n",
        "  if (num == 1):\n",
        "    isPrime = False;\n",
        "  elif (num > 1):\n",
        "    for i in range(2, num-1):\n",
        "      if (num % i == 0):\n",
        "        isPrime = False;\n",
        "        break;\n",
        "\n",
        "    return isPrime;\n",
        "\n",
        "num = input(\"input number to check is Prime: \");\n",
        "print(isPrime(num));"
      ],
      "metadata": {
        "colab": {
          "base_uri": "https://localhost:8080/"
        },
        "id": "F7eeR30hpgVi",
        "outputId": "3303d694-2b88-4df6-ec36-2e240f3ef673"
      },
      "execution_count": 20,
      "outputs": [
        {
          "output_type": "stream",
          "name": "stdout",
          "text": [
            "input number to check is Prime: 98122343435556\n",
            "False\n"
          ]
        }
      ]
    },
    {
      "cell_type": "code",
      "source": [
        "numbers = [1,2,4,5,8,9];\n",
        "primes = [i for i in numbers if isPrime(i)];\n",
        "print(primes);\n"
      ],
      "metadata": {
        "colab": {
          "base_uri": "https://localhost:8080/"
        },
        "id": "RWJdfHpssgdS",
        "outputId": "50be5d06-69c9-4686-ebb2-ccfa044d4f95"
      },
      "execution_count": 18,
      "outputs": [
        {
          "output_type": "stream",
          "name": "stdout",
          "text": [
            "[2, 5]\n"
          ]
        }
      ]
    },
    {
      "cell_type": "code",
      "source": [
        "# list to string, split\n",
        "canadian_cities = 'Halifax,Ottawa,Edmonton,Victoria';\n",
        "print(canadian_cities);\n",
        "\n",
        "lists = canadian_cities.split(\",\");\n",
        "print(lists);\n",
        "\n",
        "cities_string = \"#\".join(lists);\n",
        "print(cities_string);"
      ],
      "metadata": {
        "colab": {
          "base_uri": "https://localhost:8080/"
        },
        "id": "3C8D7nZ-uGby",
        "outputId": "1ab0360a-1710-4d49-8c6d-ccf652ef2afd"
      },
      "execution_count": 27,
      "outputs": [
        {
          "output_type": "stream",
          "name": "stdout",
          "text": [
            "Halifax,Ottawa,Edmonton,Victoria\n",
            "['Halifax', 'Ottawa', 'Edmonton', 'Victoria']\n",
            "Halifax#Ottawa#Edmonton#Victoria\n"
          ]
        }
      ]
    },
    {
      "cell_type": "code",
      "source": [
        "# sets"
      ],
      "metadata": {
        "id": "JQS3zBXpux_C"
      },
      "execution_count": null,
      "outputs": []
    }
  ]
}