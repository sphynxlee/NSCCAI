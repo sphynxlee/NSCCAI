{
  "cells": [
    {
      "cell_type": "markdown",
      "metadata": {
        "colab_type": "text",
        "id": "view-in-github"
      },
      "source": [
        "<a href=\"https://colab.research.google.com/github/sphynxlee/NSCCAI/blob/dev/rockPaperScissors.ipynb\" target=\"_parent\"><img src=\"https://colab.research.google.com/assets/colab-badge.svg\" alt=\"Open In Colab\"/></a>"
      ]
    },
    {
      "cell_type": "code",
      "execution_count": 8,
      "metadata": {
        "colab": {
          "base_uri": "https://localhost:8080/"
        },
        "id": "d8QcpXmgeymO",
        "outputId": "652b58c1-9a7c-4974-dc79-9de42c7d15bd"
      },
      "outputs": [
        {
          "name": "stdout",
          "output_type": "stream",
          "text": [
            "Please input your choice, rock[r], paper[p], scissors[s]: r\n",
            "computer covers your rock\n"
          ]
        }
      ],
      "source": [
        "# rock paper scissors\n",
        "import random;\n",
        "\n",
        "choices = [\"r\", \"p\", \"s\"];\n",
        "result = random.choice(choices);\n",
        "# print(result);\n",
        "userInput = input(\"Please input your choice, rock[r], paper[p], scissors[s]: \");\n",
        "\n",
        "# do battle\n",
        "if (result == userInput):\n",
        "  print(\"You tied the computer, you both chose: \", userInput);\n",
        "elif (userInput == \"r\" and result == \"p\"):\n",
        "  print(\"computer covers your rock\");\n",
        "elif (userInput == \"r\" and result == \"s\"):\n",
        "  print(\"you win by smashing the computer's scissors\");\n",
        "elif (userInput == \"p\" and result == \"s\"):\n",
        "  print(\"computer snips your paper\");\n",
        "elif (userInput == \"p\" and result == \"r\"):\n",
        "  print(\"you win by covering the computer's rock\");\n",
        "elif (userInput == \"s\" and result == \"p\"):\n",
        "  print(\"you cut up computer's paper\");\n",
        "elif (userInput == \"s\" and result == \"r\"):\n",
        "  print(\"computer smashes your scissor with a rock. bad computer\");\n",
        "else:\n",
        "  print(\"You entered something inappropriate. bad human\");\n"
      ]
    },
    {
      "cell_type": "code",
      "execution_count": 9,
      "metadata": {
        "colab": {
          "base_uri": "https://localhost:8080/"
        },
        "id": "zSPmQUj-faoT",
        "outputId": "145da714-779b-4295-bb7c-b9721f1742b3"
      },
      "outputs": [
        {
          "name": "stdout",
          "output_type": "stream",
          "text": [
            "all_cities[2]:  ['Valencia', 'Madrid', 'Seville', 'Barcelona']\n",
            "all_cities[1][2]:  Washington\n"
          ]
        }
      ],
      "source": [
        "canadian_cities = ['Halifax', 'Ottawa', 'Edmonton', 'Victoria'];\n",
        "us_cities = ['New York', 'Los Angeles', 'Washington', 'San Fransico'];\n",
        "spanish_cities = ['Valencia', 'Madrid', 'Seville', 'Barcelona'];\n",
        "\n",
        "all_cities = [canadian_cities, us_cities, spanish_cities];\n",
        "\n",
        "print('all_cities[2]: ', all_cities[2]);\n",
        "print('all_cities[1][2]: ', all_cities[1][2]);"
      ]
    },
    {
      "cell_type": "code",
      "execution_count": 10,
      "metadata": {
        "colab": {
          "base_uri": "https://localhost:8080/"
        },
        "id": "OTZfbsjWju1S",
        "outputId": "2c9af6a3-1719-4564-83c6-c5bc1ff37613"
      },
      "outputs": [
        {
          "name": "stdout",
          "output_type": "stream",
          "text": [
            "False\n"
          ]
        }
      ],
      "source": [
        "# function\n",
        "def isEven (num):\n",
        "  if (num % 2 == 0):\n",
        "    return True;\n",
        "  else:\n",
        "    return False;\n",
        "\n",
        "print(isEven(61));"
      ]
    },
    {
      "cell_type": "code",
      "execution_count": 20,
      "metadata": {
        "colab": {
          "base_uri": "https://localhost:8080/"
        },
        "id": "F7eeR30hpgVi",
        "outputId": "3303d694-2b88-4df6-ec36-2e240f3ef673"
      },
      "outputs": [
        {
          "name": "stdout",
          "output_type": "stream",
          "text": [
            "input number to check is Prime: 98122343435556\n",
            "False\n"
          ]
        }
      ],
      "source": [
        "def isPrime (num):\n",
        "  isPrime = True;\n",
        "  num = int(num);\n",
        "  if (num == 1):\n",
        "    isPrime = False;\n",
        "  elif (num > 1):\n",
        "    for i in range(2, num-1):\n",
        "      if (num % i == 0):\n",
        "        isPrime = False;\n",
        "        break;\n",
        "\n",
        "    return isPrime;\n",
        "\n",
        "num = input(\"input number to check is Prime: \");\n",
        "print(isPrime(num));"
      ]
    },
    {
      "cell_type": "code",
      "execution_count": 18,
      "metadata": {
        "colab": {
          "base_uri": "https://localhost:8080/"
        },
        "id": "RWJdfHpssgdS",
        "outputId": "50be5d06-69c9-4686-ebb2-ccfa044d4f95"
      },
      "outputs": [
        {
          "name": "stdout",
          "output_type": "stream",
          "text": [
            "[2, 5]\n"
          ]
        }
      ],
      "source": [
        "numbers = [1,2,4,5,8,9];\n",
        "primes = [i for i in numbers if isPrime(i)];\n",
        "print(primes);\n"
      ]
    },
    {
      "cell_type": "code",
      "execution_count": 1,
      "metadata": {
        "colab": {
          "base_uri": "https://localhost:8080/"
        },
        "id": "3C8D7nZ-uGby",
        "outputId": "1ab0360a-1710-4d49-8c6d-ccf652ef2afd"
      },
      "outputs": [
        {
          "name": "stdout",
          "output_type": "stream",
          "text": [
            "Halifax,Ottawa,Edmonton,Victoria\n",
            "['Halifax', 'Ottawa', 'Edmonton', 'Victoria']\n",
            "Halifax#Ottawa#Edmonton#Victoria\n",
            "HalifaxOttawaEdmontonVictoria\n"
          ]
        }
      ],
      "source": [
        "# list to string, split\n",
        "canadian_cities = 'Halifax,Ottawa,Edmonton,Victoria';\n",
        "print(canadian_cities);\n",
        "\n",
        "lists = canadian_cities.split(\",\");\n",
        "print(lists);\n",
        "\n",
        "cities_string = \"#\".join(lists);\n",
        "print(cities_string);\n",
        "\n",
        "cities2 = \"\".join([\"Halifax\", \"Ottawa\", \"Edmonton\", \"Victoria\"]);\n",
        "print(cities2);"
      ]
    },
    {
      "cell_type": "code",
      "execution_count": 29,
      "metadata": {
        "colab": {
          "base_uri": "https://localhost:8080/"
        },
        "id": "JQS3zBXpux_C",
        "outputId": "b17d310e-7b1b-4fce-e3cd-ced71a70c63f"
      },
      "outputs": [
        {
          "name": "stdout",
          "output_type": "stream",
          "text": [
            "9\n",
            "['a', 'g', 'i', 'l', 'o', 'r', 't']\n",
            "7\n"
          ]
        }
      ],
      "source": [
        "# sets\n",
        "word = \"alligator\";\n",
        "print(len(word));\n",
        "vocab = sorted(set(word));\n",
        "print(vocab);\n",
        "print(len(vocab));"
      ]
    },
    {
      "cell_type": "code",
      "execution_count": 6,
      "metadata": {
        "id": "o7AZF_j6w7Ij"
      },
      "outputs": [
        {
          "name": "stdout",
          "output_type": "stream",
          "text": [
            "agilort\n",
            "{'l', 'r', 'i', 'a', 'o', 'g', 't'}\n"
          ]
        }
      ],
      "source": [
        "chars = ['a', 'g', 'i', 'l', 'o', 'r', 't'];\n",
        "str = ''.join(chars);\n",
        "print(str);\n",
        "\n",
        "charArray = set(str);\n",
        "print(charArray);"
      ]
    },
    {
      "cell_type": "code",
      "execution_count": 11,
      "metadata": {},
      "outputs": [
        {
          "name": "stdout",
          "output_type": "stream",
          "text": [
            "['Fleur', 'Lia', 'Sopie']\n"
          ]
        }
      ],
      "source": [
        "names = ['Fleur', 'Dean', 'Lia', 'Dean', 'Sopie', 'Dean'];\n",
        "# get rid of duplicates\n",
        "# names = list(set(names));\n",
        "# print(names);\n",
        "\n",
        "# get rid of all Dean in names list\n",
        "# names = [name for name in names if name != 'Dean'];\n",
        "newNames = [];\n",
        "for name in names:\n",
        "  if (name == 'Dean'):\n",
        "    continue;\n",
        "  newNames.append(name);\n",
        "print(newNames);"
      ]
    },
    {
      "cell_type": "code",
      "execution_count": 1,
      "metadata": {},
      "outputs": [
        {
          "ename": "UnicodeDecodeError",
          "evalue": "'charmap' codec can't decode byte 0x81 in position 22: character maps to <undefined>",
          "output_type": "error",
          "traceback": [
            "\u001b[1;31m---------------------------------------------------------------------------\u001b[0m",
            "\u001b[1;31mUnicodeDecodeError\u001b[0m                        Traceback (most recent call last)",
            "\u001b[1;32mc:\\Users\\W0485258\\Documents\\study\\NSCCAI\\rockPaperScissors.ipynb Cell 11\u001b[0m line \u001b[0;36m2\n\u001b[0;32m      <a href='vscode-notebook-cell:/c%3A/Users/W0485258/Documents/study/NSCCAI/rockPaperScissors.ipynb#X13sZmlsZQ%3D%3D?line=0'>1</a>\u001b[0m file \u001b[39m=\u001b[39m \u001b[39mopen\u001b[39m(\u001b[39m\"\u001b[39m\u001b[39mwords.txt\u001b[39m\u001b[39m\"\u001b[39m, \u001b[39m\"\u001b[39m\u001b[39mr\u001b[39m\u001b[39m\"\u001b[39m);\n\u001b[1;32m----> <a href='vscode-notebook-cell:/c%3A/Users/W0485258/Documents/study/NSCCAI/rockPaperScissors.ipynb#X13sZmlsZQ%3D%3D?line=1'>2</a>\u001b[0m \u001b[39mprint\u001b[39m(file\u001b[39m.\u001b[39;49mread());\n",
            "File \u001b[1;32mC:\\Program Files\\WindowsApps\\PythonSoftwareFoundation.Python.3.11_3.11.1520.0_x64__qbz5n2kfra8p0\\Lib\\encodings\\cp1252.py:23\u001b[0m, in \u001b[0;36mIncrementalDecoder.decode\u001b[1;34m(self, input, final)\u001b[0m\n\u001b[0;32m     22\u001b[0m \u001b[39mdef\u001b[39;00m \u001b[39mdecode\u001b[39m(\u001b[39mself\u001b[39m, \u001b[39minput\u001b[39m, final\u001b[39m=\u001b[39m\u001b[39mFalse\u001b[39;00m):\n\u001b[1;32m---> 23\u001b[0m     \u001b[39mreturn\u001b[39;00m codecs\u001b[39m.\u001b[39mcharmap_decode(\u001b[39minput\u001b[39m,\u001b[39mself\u001b[39m\u001b[39m.\u001b[39merrors,decoding_table)[\u001b[39m0\u001b[39m]\n",
            "\u001b[1;31mUnicodeDecodeError\u001b[0m: 'charmap' codec can't decode byte 0x81 in position 22: character maps to <undefined>"
          ]
        }
      ],
      "source": [
        "file = open(\"words.txt\", \"r\");\n",
        "print(file.read());"
      ]
    },
    {
      "cell_type": "code",
      "execution_count": null,
      "metadata": {},
      "outputs": [],
      "source": []
    }
  ],
  "metadata": {
    "colab": {
      "authorship_tag": "ABX9TyPrFXdot7QKiwrdn6G1TZTC",
      "include_colab_link": true,
      "provenance": [],
      "toc_visible": true
    },
    "kernelspec": {
      "display_name": "Python 3",
      "name": "python3"
    },
    "language_info": {
      "codemirror_mode": {
        "name": "ipython",
        "version": 3
      },
      "file_extension": ".py",
      "mimetype": "text/x-python",
      "name": "python",
      "nbconvert_exporter": "python",
      "pygments_lexer": "ipython3",
      "version": "3.11.5"
    }
  },
  "nbformat": 4,
  "nbformat_minor": 0
}
