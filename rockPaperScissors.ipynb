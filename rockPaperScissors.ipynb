{
  "nbformat": 4,
  "nbformat_minor": 0,
  "metadata": {
    "colab": {
      "provenance": [],
      "toc_visible": true,
      "authorship_tag": "ABX9TyNhrbDAySmpkbgcUSi5dqHc",
      "include_colab_link": true
    },
    "kernelspec": {
      "name": "python3",
      "display_name": "Python 3"
    },
    "language_info": {
      "name": "python"
    }
  },
  "cells": [
    {
      "cell_type": "markdown",
      "metadata": {
        "id": "view-in-github",
        "colab_type": "text"
      },
      "source": [
        "<a href=\"https://colab.research.google.com/github/sphynxlee/NSCCAI/blob/dev/rockPaperScissors.ipynb\" target=\"_parent\"><img src=\"https://colab.research.google.com/assets/colab-badge.svg\" alt=\"Open In Colab\"/></a>"
      ]
    },
    {
      "cell_type": "code",
      "execution_count": 8,
      "metadata": {
        "id": "d8QcpXmgeymO",
        "colab": {
          "base_uri": "https://localhost:8080/"
        },
        "outputId": "652b58c1-9a7c-4974-dc79-9de42c7d15bd"
      },
      "outputs": [
        {
          "output_type": "stream",
          "name": "stdout",
          "text": [
            "Please input your choice, rock[r], paper[p], scissors[s]: r\n",
            "computer covers your rock\n"
          ]
        }
      ],
      "source": [
        "# rock paper scissors\n",
        "import random;\n",
        "\n",
        "choices = [\"r\", \"p\", \"s\"];\n",
        "result = random.choice(choices);\n",
        "# print(result);\n",
        "userInput = input(\"Please input your choice, rock[r], paper[p], scissors[s]: \");\n",
        "\n",
        "# do battle\n",
        "if (result == userInput):\n",
        "  print(\"You tied the computer, you both chose: \", userInput);\n",
        "elif (userInput == \"r\" and result == \"p\"):\n",
        "  print(\"computer covers your rock\");\n",
        "elif (userInput == \"r\" and result == \"s\"):\n",
        "  print(\"you win by smashing the computer's scissors\");\n",
        "elif (userInput == \"p\" and result == \"s\"):\n",
        "  print(\"computer snips your paper\");\n",
        "elif (userInput == \"p\" and result == \"r\"):\n",
        "  print(\"you win by covering the computer's rock\");\n",
        "elif (userInput == \"s\" and result == \"p\"):\n",
        "  print(\"you cut up computer's paper\");\n",
        "elif (userInput == \"s\" and result == \"r\"):\n",
        "  print(\"computer smashes your scissor with a rock. bad computer\");\n",
        "else:\n",
        "  print(\"You entered something inappropriate. bad human\");\n"
      ]
    },
    {
      "cell_type": "code",
      "source": [],
      "metadata": {
        "id": "zSPmQUj-faoT"
      },
      "execution_count": null,
      "outputs": []
    }
  ]
}