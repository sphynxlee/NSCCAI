{
 "cells": [
  {
   "cell_type": "code",
   "execution_count": 28,
   "metadata": {},
   "outputs": [],
   "source": [
    "import numpy as np\n",
    "import numpy.linalg as linear"
   ]
  },
  {
   "cell_type": "code",
   "execution_count": 29,
   "metadata": {},
   "outputs": [],
   "source": [
    "A = np.array([\n",
    "    [1,1,1,0,0],\n",
    "    [3,3,3,0,0],\n",
    "    [4,4,4,0,0],\n",
    "    [5,5,5,0,0],\n",
    "    [0,2,0,4,4],\n",
    "    [0,0,0,5,5],\n",
    "    [0,1,0,2,2]\n",
    "])\n",
    "\n",
    "# U, S, Vt = linear.svd(A, full_matrices=False)\n",
    "U, S, Vt = linear.svd(A)"
   ]
  },
  {
   "cell_type": "code",
   "execution_count": 30,
   "metadata": {},
   "outputs": [
    {
     "name": "stdout",
     "output_type": "stream",
     "text": [
      "U shape: (7, 7)\n",
      "S shape: (5,)\n",
      "S:\n",
      " [12.48  9.51  1.35  0.    0.  ]\n",
      "Vt shape: (5, 5)\n"
     ]
    }
   ],
   "source": [
    "# print out the shapes of U, S, Vt and print out the matrices themselves\n",
    "print('U shape:', U.shape)\n",
    "# print('U:\\n', U)\n",
    "print('S shape:', S.shape)\n",
    "print('S:\\n', S)\n",
    "print('Vt shape:', Vt.shape)\n",
    "# print('Vt:\\n', Vt)\n"
   ]
  },
  {
   "cell_type": "code",
   "execution_count": 31,
   "metadata": {},
   "outputs": [
    {
     "name": "stdout",
     "output_type": "stream",
     "text": [
      "Sigma:\n",
      " [[12.48  0.    0.    0.    0.  ]\n",
      " [ 0.    9.51  0.    0.    0.  ]\n",
      " [ 0.    0.    1.35  0.    0.  ]\n",
      " [ 0.    0.    0.    0.    0.  ]\n",
      " [ 0.    0.    0.    0.    0.  ]]\n",
      "Sigma:\n",
      " [12.48  9.51  1.35  0.    0.  ]\n"
     ]
    }
   ],
   "source": [
    "np.set_printoptions(precision=2, suppress=True)\n",
    "# print out the diagonal matrix Sigma\n",
    "print('Sigma:\\n', np.diag(S))\n",
    "print('Sigma:\\n', S)"
   ]
  },
  {
   "cell_type": "code",
   "execution_count": 32,
   "metadata": {},
   "outputs": [
    {
     "name": "stdout",
     "output_type": "stream",
     "text": [
      "[12.48  9.51  1.35  0.    0.  ]\n"
     ]
    }
   ],
   "source": [
    "from numpy.lib.arraysetops import setxor1d\n",
    "print(S)"
   ]
  },
  {
   "cell_type": "code",
   "execution_count": 33,
   "metadata": {},
   "outputs": [
    {
     "name": "stdout",
     "output_type": "stream",
     "text": [
      "sigma shape: (7, 5)\n",
      "sigma:\n",
      " [[12.48  0.    0.    0.    0.  ]\n",
      " [ 0.    9.51  0.    0.    0.  ]\n",
      " [ 0.    0.    0.    0.    0.  ]\n",
      " [ 0.    0.    0.    0.    0.  ]\n",
      " [ 0.    0.    0.    0.    0.  ]\n",
      " [ 0.    0.    0.    0.    0.  ]\n",
      " [ 0.    0.    0.    0.    0.  ]]\n",
      "sigma:\n",
      " [12.48  9.51  0.    0.    0.  ]\n"
     ]
    }
   ],
   "source": [
    "sigma = np.array([\n",
    "    [12.48, 0, 0, 0, 0],\n",
    "    [0, 9.51, 0, 0, 0],\n",
    "    [0, 0, 0, 0, 0],\n",
    "    [0, 0, 0, 0, 0],\n",
    "    [0, 0, 0, 0, 0],\n",
    "    [0, 0, 0, 0, 0],\n",
    "    [0, 0, 0, 0, 0]\n",
    "])\n",
    "print('sigma shape:', sigma.shape)\n",
    "print('sigma:\\n', sigma)\n",
    "print('sigma:\\n', np.diag(sigma))"
   ]
  },
  {
   "cell_type": "code",
   "execution_count": 34,
   "metadata": {},
   "outputs": [
    {
     "name": "stdout",
     "output_type": "stream",
     "text": [
      "newA:\n",
      " [[ 0.99  1.01  0.99 -0.   -0.  ]\n",
      " [ 2.98  3.03  2.98 -0.   -0.  ]\n",
      " [ 3.98  4.05  3.98 -0.01 -0.01]\n",
      " [ 4.97  5.06  4.97 -0.01 -0.01]\n",
      " [ 0.36  1.29  0.36  4.08  4.08]\n",
      " [-0.37  0.73 -0.37  4.92  4.92]\n",
      " [ 0.18  0.65  0.18  2.04  2.04]]\n"
     ]
    }
   ],
   "source": [
    "# reconstruct A using this new - lower rank matrix sigma\n",
    "\n",
    "# how big of an effect does dropping the 3rd singular value of sigma, does it have on the data stored in A?\n",
    "# reconstruct A using this new - lower rank matrix sigma\n",
    "# sigma[2, 2] = 0\n",
    "newA = U @ sigma @ Vt\n",
    "print('newA:\\n', newA)\n"
   ]
  },
  {
   "cell_type": "code",
   "execution_count": 35,
   "metadata": {},
   "outputs": [
    {
     "name": "stdout",
     "output_type": "stream",
     "text": [
      "A:\n",
      " [[1 1 1 0 0]\n",
      " [3 3 3 0 0]\n",
      " [4 4 4 0 0]\n",
      " [5 5 5 0 0]\n",
      " [0 2 0 4 4]\n",
      " [0 0 0 5 5]\n",
      " [0 1 0 2 2]]\n"
     ]
    }
   ],
   "source": [
    "print('A:\\n', A)"
   ]
  },
  {
   "cell_type": "code",
   "execution_count": 36,
   "metadata": {},
   "outputs": [
    {
     "name": "stdout",
     "output_type": "stream",
     "text": [
      "1.3455608091059477\n"
     ]
    }
   ],
   "source": [
    "print(linear.norm(A - newA, ord='fro'))"
   ]
  },
  {
   "cell_type": "code",
   "execution_count": null,
   "metadata": {},
   "outputs": [],
   "source": []
  }
 ],
 "metadata": {
  "kernelspec": {
   "display_name": "base",
   "language": "python",
   "name": "python3"
  },
  "language_info": {
   "codemirror_mode": {
    "name": "ipython",
    "version": 3
   },
   "file_extension": ".py",
   "mimetype": "text/x-python",
   "name": "python",
   "nbconvert_exporter": "python",
   "pygments_lexer": "ipython3",
   "version": "3.11.4"
  }
 },
 "nbformat": 4,
 "nbformat_minor": 2
}
