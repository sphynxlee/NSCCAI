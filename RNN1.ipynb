{
  "nbformat": 4,
  "nbformat_minor": 0,
  "metadata": {
    "colab": {
      "provenance": [],
      "authorship_tag": "ABX9TyMcgpg9fXx8ngaUfWWO+tmr",
      "include_colab_link": true
    },
    "kernelspec": {
      "name": "python3",
      "display_name": "Python 3"
    },
    "language_info": {
      "name": "python"
    }
  },
  "cells": [
    {
      "cell_type": "markdown",
      "metadata": {
        "id": "view-in-github",
        "colab_type": "text"
      },
      "source": [
        "<a href=\"https://colab.research.google.com/github/sphynxlee/NSCCAI/blob/dev/RNN1.ipynb\" target=\"_parent\"><img src=\"https://colab.research.google.com/assets/colab-badge.svg\" alt=\"Open In Colab\"/></a>"
      ]
    },
    {
      "cell_type": "code",
      "execution_count": 7,
      "metadata": {
        "colab": {
          "base_uri": "https://localhost:8080/"
        },
        "id": "5wnu9y4rjlH8",
        "outputId": "ae776de8-77d7-4d71-83d2-d94bb46b4a34"
      },
      "outputs": [
        {
          "output_type": "stream",
          "name": "stdout",
          "text": [
            "27 {'e', 's', 'w', 'n', 'u', 'W', 'a', '.', 'k', 'v', ',', 'i', 'l', ' ', 'T', 'J', 'h', 'o', 'f', 'd', 't', 'b', 'B', 'q', 'y', 'm', 'r'}\n"
          ]
        }
      ],
      "source": [
        "import torch\n",
        "from torch import nn\n",
        "import numpy as np\n",
        "\n",
        "sentences = [\"To be or not to be, that is the question\",\n",
        "             \"When all has been said and done, more will have been said then done\",\n",
        "             \"Be yourself, everyone else is take\",\n",
        "             \"Just do it.\"]\n",
        "\n",
        "vocab = set(''.join(sentences))\n",
        "print(len(vocab), vocab)"
      ]
    },
    {
      "cell_type": "code",
      "source": [
        "MAX_LENGTH = len(max(sentences, key=len))\n",
        "print(MAX_LENGTH)"
      ],
      "metadata": {
        "colab": {
          "base_uri": "https://localhost:8080/"
        },
        "id": "14jkUUzpkRhY",
        "outputId": "a84a9b62-d7d8-4126-fb77-1d06d518ccfd"
      },
      "execution_count": 8,
      "outputs": [
        {
          "output_type": "stream",
          "name": "stdout",
          "text": [
            "67\n"
          ]
        }
      ]
    },
    {
      "cell_type": "code",
      "source": [
        "for i in range(len(sentences)):\n",
        "  while len(sentences[i]) < MAX_LENGTH:\n",
        "    sentences[i] += '_'\n",
        "\n",
        "print(sentences)"
      ],
      "metadata": {
        "colab": {
          "base_uri": "https://localhost:8080/"
        },
        "id": "bz1JGeTVkdrf",
        "outputId": "98537f66-a57c-415f-ac2c-a432db7d52df"
      },
      "execution_count": 9,
      "outputs": [
        {
          "output_type": "stream",
          "name": "stdout",
          "text": [
            "['To be or not to be, that is the question___________________________', 'When all has been said and done, more will have been said then done', 'Be yourself, everyone else is take_________________________________', 'Just do it.________________________________________________________']\n"
          ]
        }
      ]
    },
    {
      "cell_type": "code",
      "source": [
        "input_sequence = []\n",
        "target_sequence = []\n",
        "\n",
        "for i in range(len(sentences)):\n",
        "  input_sequence.append(sentences[i][:-1])\n",
        "  target_sequence.append(sentences[i][1:])\n",
        "\n",
        "  print(\"Input Sequence: {}\\nTarget Sequence: {}\".format(input_sequence[i], target_sequence[i]))"
      ],
      "metadata": {
        "colab": {
          "base_uri": "https://localhost:8080/"
        },
        "id": "M3hfPSqwmhKe",
        "outputId": "499ddbe6-9f23-476d-ad6c-de2e6ba6beba"
      },
      "execution_count": 10,
      "outputs": [
        {
          "output_type": "stream",
          "name": "stdout",
          "text": [
            "Input Sequence: To be or not to be, that is the question__________________________\n",
            "Target Sequence: o be or not to be, that is the question___________________________\n",
            "Input Sequence: When all has been said and done, more will have been said then don\n",
            "Target Sequence: hen all has been said and done, more will have been said then done\n",
            "Input Sequence: Be yourself, everyone else is take________________________________\n",
            "Target Sequence: e yourself, everyone else is take_________________________________\n",
            "Input Sequence: Just do it._______________________________________________________\n",
            "Target Sequence: ust do it.________________________________________________________\n"
          ]
        }
      ]
    },
    {
      "cell_type": "code",
      "source": [],
      "metadata": {
        "id": "mwz7fehEnGR_"
      },
      "execution_count": null,
      "outputs": []
    }
  ]
}