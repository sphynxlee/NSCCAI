{
  "nbformat": 4,
  "nbformat_minor": 0,
  "metadata": {
    "colab": {
      "provenance": [],
      "authorship_tag": "ABX9TyMME1rqMpn4PAETjRrduKbb",
      "include_colab_link": true
    },
    "kernelspec": {
      "name": "python3",
      "display_name": "Python 3"
    },
    "language_info": {
      "name": "python"
    }
  },
  "cells": [
    {
      "cell_type": "markdown",
      "metadata": {
        "id": "view-in-github",
        "colab_type": "text"
      },
      "source": [
        "<a href=\"https://colab.research.google.com/github/sphynxlee/NSCCAI/blob/dev/BabyNet.ipynb\" target=\"_parent\"><img src=\"https://colab.research.google.com/assets/colab-badge.svg\" alt=\"Open In Colab\"/></a>"
      ]
    },
    {
      "cell_type": "code",
      "execution_count": 7,
      "metadata": {
        "colab": {
          "base_uri": "https://localhost:8080/"
        },
        "id": "PDFe3YOki90v",
        "outputId": "66063695-14d4-4198-b57e-e81336182151"
      },
      "outputs": [
        {
          "output_type": "stream",
          "name": "stdout",
          "text": [
            "Error:  -236\n",
            "Farenheit input:  97\n",
            "Predicted celsius equivalent:  273\n"
          ]
        }
      ],
      "source": [
        "# Fareinheit to Celsius \"predictor\"\n",
        "\n",
        "import random;\n",
        "# slope\n",
        "weight1 = random.randint(1, 10);\n",
        "# y-intercept(b)\n",
        "weight2 = -18;\n",
        "\n",
        "data = [[87, 31], [97, 37], [22, -5], [100, 39], [31, 87]];\n",
        "\n",
        "def babyNet(input):\n",
        "  # return m*x + b;\n",
        "  output = weight1 * input + weight2;\n",
        "  return output;\n",
        "\n",
        "# cost function, energy function, error function, loss function, everything under the sun function\n",
        "def error(pred, act):\n",
        "  err = act - pred;\n",
        "  return err;\n",
        "\n",
        "one_error = error(babyNet(data[1][0]), data[1][1]);\n",
        "# print(babyNet(100));\n",
        "print(\"Error: \", one_error);\n",
        "print(\"Farenheit input: \", data[1][0]);\n",
        "print(\"Predicted celsius equivalent: \", babyNet(data[1][0]));"
      ]
    },
    {
      "cell_type": "code",
      "source": [],
      "metadata": {
        "id": "lPHxuA3DmCRD"
      },
      "execution_count": null,
      "outputs": []
    }
  ]
}