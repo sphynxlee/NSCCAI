{
  "nbformat": 4,
  "nbformat_minor": 0,
  "metadata": {
    "colab": {
      "provenance": [],
      "toc_visible": true,
      "authorship_tag": "ABX9TyNzw1wiu8QBx5xP/VQuG/pS",
      "include_colab_link": true
    },
    "kernelspec": {
      "name": "python3",
      "display_name": "Python 3"
    },
    "language_info": {
      "name": "python"
    }
  },
  "cells": [
    {
      "cell_type": "markdown",
      "metadata": {
        "id": "view-in-github",
        "colab_type": "text"
      },
      "source": [
        "<a href=\"https://colab.research.google.com/github/sphynxlee/NSCCAI/blob/dev/Class1.ipynb\" target=\"_parent\"><img src=\"https://colab.research.google.com/assets/colab-badge.svg\" alt=\"Open In Colab\"/></a>"
      ]
    },
    {
      "cell_type": "code",
      "execution_count": null,
      "metadata": {
        "colab": {
          "base_uri": "https://localhost:8080/"
        },
        "id": "Uwi4bKRt34_Q",
        "outputId": "b1042af5-174d-413e-9fda-ba6fd02f78f7"
      },
      "outputs": [
        {
          "output_type": "stream",
          "name": "stdout",
          "text": [
            "hello, world\n"
          ]
        }
      ],
      "source": [
        "print(\"hello, world\");"
      ]
    },
    {
      "cell_type": "code",
      "source": [
        "print(\"kaiton\", \"ri\");"
      ],
      "metadata": {
        "colab": {
          "base_uri": "https://localhost:8080/"
        },
        "id": "cvYrknZH4VfQ",
        "outputId": "85d5fd80-f429-41ae-c0d4-03274ae1c568"
      },
      "execution_count": null,
      "outputs": [
        {
          "output_type": "stream",
          "name": "stdout",
          "text": [
            "kaiton ri\n"
          ]
        }
      ]
    },
    {
      "cell_type": "code",
      "source": [
        "print(\"kaiton\", end=\"\");\n",
        "print(\" ri\");"
      ],
      "metadata": {
        "colab": {
          "base_uri": "https://localhost:8080/"
        },
        "id": "uEI4lcOi49Wu",
        "outputId": "44a69363-c11d-484e-bde6-c57b08e82200"
      },
      "execution_count": null,
      "outputs": [
        {
          "output_type": "stream",
          "name": "stdout",
          "text": [
            "kaiton ri\n"
          ]
        }
      ]
    },
    {
      "cell_type": "code",
      "source": [
        "print(\"'\\t'\");"
      ],
      "metadata": {
        "colab": {
          "base_uri": "https://localhost:8080/"
        },
        "id": "PUqHIWFl5HAu",
        "outputId": "0600d829-40fb-47b7-b86f-60c9a218ca83"
      },
      "execution_count": null,
      "outputs": [
        {
          "output_type": "stream",
          "name": "stdout",
          "text": [
            "'\t'\n"
          ]
        }
      ]
    },
    {
      "cell_type": "code",
      "source": [
        "print(\"\\\\t\");"
      ],
      "metadata": {
        "colab": {
          "base_uri": "https://localhost:8080/"
        },
        "id": "9Ek_evzP5vc-",
        "outputId": "daac818a-e68c-42e5-e5dc-2039fef3a69a"
      },
      "execution_count": null,
      "outputs": [
        {
          "output_type": "stream",
          "name": "stdout",
          "text": [
            "\\t\n"
          ]
        }
      ]
    },
    {
      "cell_type": "code",
      "source": [
        "print(r\"\\t, \\t\");"
      ],
      "metadata": {
        "colab": {
          "base_uri": "https://localhost:8080/"
        },
        "id": "1jt4yzfs6KQ_",
        "outputId": "3c4dd906-3eed-4c8f-eb26-cbfbed297b1c"
      },
      "execution_count": null,
      "outputs": [
        {
          "output_type": "stream",
          "name": "stdout",
          "text": [
            "\\t, \\t\n"
          ]
        }
      ]
    },
    {
      "cell_type": "code",
      "source": [
        "print(20*' kaiton');"
      ],
      "metadata": {
        "colab": {
          "base_uri": "https://localhost:8080/"
        },
        "id": "mlBr5NvB6X7e",
        "outputId": "0886376b-17f8-469c-aaee-d7df31c6e97b"
      },
      "execution_count": null,
      "outputs": [
        {
          "output_type": "stream",
          "name": "stdout",
          "text": [
            " kaiton kaiton kaiton kaiton kaiton kaiton kaiton kaiton kaiton kaiton kaiton kaiton kaiton kaiton kaiton kaiton kaiton kaiton kaiton kaiton\n"
          ]
        }
      ]
    },
    {
      "cell_type": "code",
      "source": [
        "name = \"kaiton\";\n",
        "print(name);"
      ],
      "metadata": {
        "colab": {
          "base_uri": "https://localhost:8080/"
        },
        "id": "d-huIGo76oBe",
        "outputId": "ae174136-6bab-431c-abb3-5d6bb612dcc0"
      },
      "execution_count": null,
      "outputs": [
        {
          "output_type": "stream",
          "name": "stdout",
          "text": [
            "kaiton\n"
          ]
        }
      ]
    },
    {
      "cell_type": "code",
      "source": [
        "type(name);"
      ],
      "metadata": {
        "id": "4S4m-hwM82Mu"
      },
      "execution_count": null,
      "outputs": []
    },
    {
      "cell_type": "code",
      "source": [
        "type = 123;\n",
        "print(type);"
      ],
      "metadata": {
        "colab": {
          "base_uri": "https://localhost:8080/"
        },
        "id": "4yXift5q8_de",
        "outputId": "803aa7f4-6c20-431f-c1ea-a322c099154e"
      },
      "execution_count": null,
      "outputs": [
        {
          "output_type": "stream",
          "name": "stdout",
          "text": [
            "123\n"
          ]
        }
      ]
    },
    {
      "cell_type": "code",
      "source": [
        "print(\"Who are you?\");\n",
        "input(\"Please tell me your name\");\n"
      ],
      "metadata": {
        "colab": {
          "base_uri": "https://localhost:8080/"
        },
        "id": "Ks6JTbVR9TtO",
        "outputId": "e7dd8f25-16a8-49a2-a116-51c171ec874b"
      },
      "execution_count": null,
      "outputs": [
        {
          "name": "stdout",
          "output_type": "stream",
          "text": [
            "Who are you?\n",
            "Please tell me your name kaiton\n"
          ]
        }
      ]
    },
    {
      "cell_type": "code",
      "source": [
        "firstVar = input(\"Please input 1st number: \");\n",
        "secondVar = input(\"Please input 2nd number: \");\n",
        "sum = int(firstVar) + int(secondVar);\n",
        "# divedMultiplyAndMinus = input(\"Please input your wish: \");\n",
        "#print(\"The answer is: \", firstVar + secondVar);\n",
        "print(\"The answer is: \", sum);\n"
      ],
      "metadata": {
        "colab": {
          "base_uri": "https://localhost:8080/"
        },
        "id": "dXB3qLgu_FWv",
        "outputId": "63421035-e798-42b5-8fc2-fd30b9f835df"
      },
      "execution_count": null,
      "outputs": [
        {
          "output_type": "stream",
          "name": "stdout",
          "text": [
            "Please input 1st number: 3\n",
            "Please input 2nd number: 4\n",
            "The answer is:  7\n"
          ]
        }
      ]
    },
    {
      "cell_type": "code",
      "source": [
        "print(\n",
        "    \"    *\\n\"\n",
        "    \"   ***\\n\"\n",
        "    \"  *****\\n\"\n",
        "    \" *******\\n\"\n",
        "    \"*********\\n\"\n",
        ");\n"
      ],
      "metadata": {
        "colab": {
          "base_uri": "https://localhost:8080/"
        },
        "id": "7C95uQSq_atu",
        "outputId": "80ec2bb3-90d7-4b04-d877-174074482284"
      },
      "execution_count": null,
      "outputs": [
        {
          "output_type": "stream",
          "name": "stdout",
          "text": [
            "    *\n",
            "   ***\n",
            "  *****\n",
            " *******\n",
            "*********\n",
            "\n"
          ]
        }
      ]
    },
    {
      "cell_type": "code",
      "source": [],
      "metadata": {
        "id": "rhkdr35jDDX_"
      },
      "execution_count": null,
      "outputs": []
    },
    {
      "cell_type": "markdown",
      "source": [
        "hello, haidun\n",
        "<h1>haidun</h1>\n",
        "<code>var sum = 0;</code><br>\n",
        "\n",
        "---\n",
        "#kaiton\n",
        "\n"
      ],
      "metadata": {
        "id": "eswyqQAEFNT_"
      }
    },
    {
      "cell_type": "code",
      "source": [
        "names = [\"dean\", \"tom\", \"jerry\", \"kaiton\"];\n",
        "print(len(names));\n",
        "print(names[:2]);\n",
        "print(names[2:]);"
      ],
      "metadata": {
        "colab": {
          "base_uri": "https://localhost:8080/",
          "height": 0
        },
        "id": "YJ_64wY3Ko_0",
        "outputId": "c6a81252-689b-4859-f4f8-0a75ef4e4596"
      },
      "execution_count": 4,
      "outputs": [
        {
          "output_type": "stream",
          "name": "stdout",
          "text": [
            "4\n",
            "['dean', 'tom']\n",
            "['jerry', 'kaiton']\n"
          ]
        }
      ]
    },
    {
      "cell_type": "code",
      "source": [
        "import random;\n",
        "print(random.choice(names));\n"
      ],
      "metadata": {
        "colab": {
          "base_uri": "https://localhost:8080/"
        },
        "id": "fhUZgrTdKw0b",
        "outputId": "d962253a-d94f-477d-8a18-17e19319b4f9"
      },
      "execution_count": 15,
      "outputs": [
        {
          "output_type": "stream",
          "name": "stdout",
          "text": [
            "tom\n"
          ]
        }
      ]
    },
    {
      "cell_type": "code",
      "source": [
        "print(random.randrange(1, 10));"
      ],
      "metadata": {
        "colab": {
          "base_uri": "https://localhost:8080/"
        },
        "id": "Lb8Jawh9M59r",
        "outputId": "7f8a75e6-99c7-4d6b-9241-cc2a944eed9e"
      },
      "execution_count": 20,
      "outputs": [
        {
          "output_type": "stream",
          "name": "stdout",
          "text": [
            "4\n"
          ]
        }
      ]
    },
    {
      "cell_type": "code",
      "source": [
        "number = int(input(\"need a number: \"));\n",
        "while number:\n",
        "  if(number > 1):\n",
        "    print(\"Yes\");\n",
        "  else:\n",
        "    print(\"No\");"
      ],
      "metadata": {
        "colab": {
          "base_uri": "https://localhost:8080/"
        },
        "id": "50IsESkUOaor",
        "outputId": "5c53f279-7ed9-49d8-d8dd-e8570661d2bc"
      },
      "execution_count": 27,
      "outputs": [
        {
          "name": "stdout",
          "output_type": "stream",
          "text": [
            "need a number: 0\n"
          ]
        }
      ]
    },
    {
      "cell_type": "code",
      "source": [
        "rndNumber = random.randint(1, 10);\n",
        "# for test while block\n",
        "# rndNumber = 1;\n",
        "print(rndNumber);\n",
        "while True:\n",
        "  tmpNumber = int(input(\"guess the random number: \"));\n",
        "  if (tmpNumber == rndNumber):\n",
        "    print(\"genesis\");\n",
        "    break;\n",
        "  elif (tmpNumber > rndNumber):\n",
        "    print(\"keep guess, greater than random number\");\n",
        "  else:\n",
        "    print(\"keep guess, lower than random number\");\n"
      ],
      "metadata": {
        "colab": {
          "base_uri": "https://localhost:8080/"
        },
        "id": "KSgC04euPLXx",
        "outputId": "34fd7925-f14e-4008-9984-f7ed96a07c91"
      },
      "execution_count": 39,
      "outputs": [
        {
          "output_type": "stream",
          "name": "stdout",
          "text": [
            "10\n",
            "guess the random number: 2\n",
            "keep guess, lower than random number\n",
            "guess the random number: 11\n",
            "keep guess, greater than random number\n",
            "guess the random number: 10\n",
            "genesis\n"
          ]
        }
      ]
    },
    {
      "cell_type": "code",
      "source": [],
      "metadata": {
        "id": "a5Sfqg-6QTIq"
      },
      "execution_count": null,
      "outputs": []
    }
  ]
}