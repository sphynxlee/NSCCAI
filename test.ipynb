{
 "cells": [
  {
   "cell_type": "code",
   "execution_count": 4,
   "metadata": {},
   "outputs": [
    {
     "name": "stdout",
     "output_type": "stream",
     "text": [
      "[0, 1, 0, 1, 0, 1, 0, 1, 0, 1, 0, 1, 0]\n",
      "[0.01       0.01388235 0.01       0.01388235 0.01       0.01388235\n",
      " 0.01       0.01388235 0.01       0.01388235 0.01       0.01388235\n",
      " 0.01      ]\n"
     ]
    }
   ],
   "source": [
    "import numpy as np\n",
    "# arr = [81,72,63,54,45,36,27,18,9,0]\n",
    "# print(arr[1:])\n",
    "# arr = np.asfarray(arr[1:])/9\n",
    "arr = [1,0,1,0,1,0,1,0,1,0,1,0,1,0]\n",
    "print(arr[1:])\n",
    "arr = np.asfarray(arr[1:])/255.0 * 0.99 + 0.01\n",
    "print(arr)"
   ]
  },
  {
   "cell_type": "code",
   "execution_count": 2,
   "metadata": {},
   "outputs": [
    {
     "name": "stdout",
     "output_type": "stream",
     "text": [
      "[0.99 0.01 0.01 0.01 0.01 0.01 0.01 0.01 0.01 0.01]\n"
     ]
    }
   ],
   "source": [
    "target = np.zeros(10) + 0.01\n",
    "target[0] = 0.99\n",
    "print(target)"
   ]
  },
  {
   "cell_type": "code",
   "execution_count": null,
   "metadata": {},
   "outputs": [],
   "source": []
  }
 ],
 "metadata": {
  "kernelspec": {
   "display_name": "Python 3",
   "language": "python",
   "name": "python3"
  },
  "language_info": {
   "codemirror_mode": {
    "name": "ipython",
    "version": 3
   },
   "file_extension": ".py",
   "mimetype": "text/x-python",
   "name": "python",
   "nbconvert_exporter": "python",
   "pygments_lexer": "ipython3",
   "version": "3.11.5"
  },
  "orig_nbformat": 4
 },
 "nbformat": 4,
 "nbformat_minor": 2
}
