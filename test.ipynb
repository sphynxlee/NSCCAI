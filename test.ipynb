{
 "cells": [
  {
   "cell_type": "code",
   "execution_count": 1,
   "metadata": {},
   "outputs": [
    {
     "name": "stdout",
     "output_type": "stream",
     "text": [
      "59\n"
     ]
    }
   ],
   "source": [
    "num1 = input(\"Number 1:\")\n",
    "num2 = input(\"Number 2:\")\n",
    "print(num1 + num2)"
   ]
  },
  {
   "cell_type": "code",
   "execution_count": 17,
   "metadata": {},
   "outputs": [
    {
     "name": "stdout",
     "output_type": "stream",
     "text": [
      "m is: tensor([[1, 2, 3, 2],\n",
      "        [2, 3, 2, 2],\n",
      "        [2, 1, 2, 0],\n",
      "        [2, 2, 2, 1]])  and m type is: <class 'torch.Tensor'>\n"
     ]
    }
   ],
   "source": [
    "import torch\n",
    "\n",
    "def tensor_transform(n: int):\n",
    "    return torch.randint(low=0, high=5, size=(n,n))\n",
    "\n",
    "m = tensor_transform(4)\n",
    "print(f'm is: {m}  and m type is: {type(m)}')"
   ]
  },
  {
   "cell_type": "code",
   "execution_count": 18,
   "metadata": {},
   "outputs": [
    {
     "name": "stdout",
     "output_type": "stream",
     "text": [
      "m is: tensor([[0, 1, 1],\n",
      "        [2, 1, 2],\n",
      "        [1, 2, 2]])\n",
      "tensor([2, 5, 5])\n"
     ]
    }
   ],
   "source": [
    "import torch\n",
    "\n",
    "def sum_of_rows(m):\n",
    "    return torch.sum(m, dim=1)\n",
    "\n",
    "m = torch.randint(low=0, high=3, size=(3,3))\n",
    "print(f'm is: {m}')\n",
    "print(sum_of_rows(m))"
   ]
  },
  {
   "cell_type": "code",
   "execution_count": 19,
   "metadata": {},
   "outputs": [
    {
     "name": "stdout",
     "output_type": "stream",
     "text": [
      "input_martrix is: tensor([[0, 0, 4],\n",
      "        [4, 3, 4],\n",
      "        [3, 1, 5]])\n",
      "{'Row_1': 4, 'Row_2': 11, 'Row_3': 9}\n"
     ]
    }
   ],
   "source": [
    "import torch\n",
    "\n",
    "def generate_random_matrix(n):\n",
    "    random_tensor = torch.randint(low=0, high=6, size=(n,n))\n",
    "    return random_tensor\n",
    "\n",
    "def display_row_sums(matrix):\n",
    "    row_sums_dict = {}\n",
    "    for i, row in enumerate(matrix):\n",
    "        row_label = f'Row_{i+1}'\n",
    "        row_sum = sum(row)\n",
    "        row_sums_dict[row_label] = row_sum.item()\n",
    "    return row_sums_dict\n",
    "\n",
    "input_martrix = generate_random_matrix(3)\n",
    "print(f'input_martrix is: {input_martrix}')\n",
    "print(display_row_sums(input_martrix))\n"
   ]
  },
  {
   "cell_type": "code",
   "execution_count": 55,
   "metadata": {},
   "outputs": [
    {
     "name": "stdout",
     "output_type": "stream",
     "text": [
      "2241\n",
      "24917\n",
      "['Metamorphosis', 'by', 'Franz', 'Kafka', 'Translated', 'by', 'David', 'Wyllie', 'I', 'One', 'morning,', 'when', 'Gregor', 'Samsa', 'woke', 'from', 'troubled', 'dreams,', 'he', 'found', 'himself', 'transformed', 'in', 'his', 'bed', 'into', 'a', 'horrible', 'vermin.', 'He', 'lay', 'on', 'his', 'armour-like', 'back,', 'and', 'if', 'he', 'lifted', 'his', 'head', 'a', 'little', 'he', 'could', 'see', 'his', 'brown', 'belly,', 'slightly', 'domed', 'and', 'divided', 'by', 'arches', 'into', 'stiff', 'sections.', 'The', 'bedding', 'was', 'hardly', 'able', 'to', 'cover', 'it', 'and', 'seemed', 'ready', 'to', 'slide', 'off', 'any', 'moment.', 'His', 'many', 'legs,', 'pitifully', 'thin', 'compared', 'with', 'the', 'size', 'of', 'the', 'rest', 'of', 'him,', 'waved', 'about', 'helplessly', 'as', 'he', 'looked.', '“What’s', 'happened', 'to', 'me?”', 'he', 'thought.']\n",
      "4593\n"
     ]
    }
   ],
   "source": [
    "import requests\n",
    "\n",
    "def get_data(url):\n",
    "    response = requests.get(url)\n",
    "    return response.text\n",
    "\n",
    "url = 'https://gutenberg.org/cache/epub/5200/pg5200.txt'\n",
    "book = get_data(url)\n",
    "# print(type(book))\n",
    "# print(book[:500])\n",
    "\n",
    "divider = '*** START OF THE PROJECT GUTENBERG EBOOK METAMORPHOSIS ***'\n",
    "book = book.split(divider)\n",
    "# print(book[1][:100])\n",
    "\n",
    "# count how many lines in the book\n",
    "lines = book[1].split('\\r\\n')\n",
    "print(len(lines))\n",
    "\n",
    "# count how many words in the book\n",
    "words = book[1].split()\n",
    "print(len(words))\n",
    "print(words[:100])\n",
    "unique_words = set(words)\n",
    "print(len(unique_words))\n"
   ]
  },
  {
   "cell_type": "code",
   "execution_count": null,
   "metadata": {},
   "outputs": [],
   "source": []
  }
 ],
 "metadata": {
  "kernelspec": {
   "display_name": "Python 3",
   "language": "python",
   "name": "python3"
  },
  "language_info": {
   "codemirror_mode": {
    "name": "ipython",
    "version": 3
   },
   "file_extension": ".py",
   "mimetype": "text/x-python",
   "name": "python",
   "nbconvert_exporter": "python",
   "pygments_lexer": "ipython3",
   "version": "3.11.6"
  }
 },
 "nbformat": 4,
 "nbformat_minor": 2
}
