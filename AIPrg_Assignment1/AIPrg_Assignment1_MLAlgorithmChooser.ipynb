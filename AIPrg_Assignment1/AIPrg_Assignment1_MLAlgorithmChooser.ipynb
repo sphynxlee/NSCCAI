{
  "cells": [
    {
      "cell_type": "markdown",
      "metadata": {
        "colab_type": "text",
        "id": "view-in-github"
      },
      "source": [
        "<a href=\"https://colab.research.google.com/github/sphynxlee/NSCCAI/blob/dev/MLAlgorithmChooser.ipynb\" target=\"_parent\"><img src=\"https://colab.research.google.com/assets/colab-badge.svg\" alt=\"Open In Colab\"/></a>"
      ]
    },
    {
      "cell_type": "markdown",
      "metadata": {
        "id": "LT2LQll8dWNR"
      },
      "source": [
        "# Short Assignment #1:\n",
        "\n",
        "## Instructions\n",
        "<p>Write a Python program that asks the user a series of questions based on the\n",
        "decision chart below.</p>\n",
        "\n",
        "<p>The output of your program should suggest a set of possible Machine Learning algorithms to solve their problem.</p>\n",
        "\n",
        "![ML Algorithm Chooser](https://github.com/sphynxlee/NSCCAI/blob/dev/AIPrg_Assignment1/AIPrg_Assignment1_MLAlgorithmChooser.png?raw=true)"
      ]
    },
    {
      "cell_type": "code",
      "execution_count": 19,
      "metadata": {
        "colab": {
          "base_uri": "https://localhost:8080/"
        },
        "id": "I69iSSLHfQQq",
        "outputId": "4470a517-b0c8-46f0-d6d3-4500b2c8e05f"
      },
      "outputs": [
        {
          "name": "stdout",
          "output_type": "stream",
          "text": [
            "There have problem with machine learning.\n",
            "But we could gradually solve them, and finally you would have a suggestion of a set of possible Machine Learning algorithms to solve your problem \n",
            "\n",
            "\n",
            "Do you have labeled data?\n",
            "Please input [Y] or [N]: \n",
            "y\n",
            "Your answer is labeled data, therefore it should be using Supervised learning.\n",
            "\n",
            "Are these labeled data with Category or Quantity?\n",
            "Please input [C] or [Q]: \n",
            "a\n",
            "Your input is incorrect, neither Category or Quantity, please try again.\n",
            "\n",
            "\n",
            "Your answer is labeled data, therefore it should be using Supervised learning.\n",
            "\n",
            "Are these labeled data with Category or Quantity?\n",
            "Please input [C] or [Q]: \n",
            "c\n",
            "Your answer is Category, therefore the answer is that your Labeled Data is Classification.\n",
            "And the suggestion algorithm is below:\n",
            "Neural Network\n",
            "Logistic Regression\n",
            "Random Forest\n",
            "Naive Bayes\n",
            "Support Vector Machine\n"
          ]
        }
      ],
      "source": [
        "mlAlgorithmProblem = \"There have problem with machine learning.\\nBut we could gradually solve them, and finally you would have a suggestion of a set of possible Machine Learning algorithms to solve your problem\";\n",
        "print(mlAlgorithmProblem, '\\n\\n');\n",
        "\n",
        "labelDataFlag = True\n",
        "while labelDataFlag:\n",
        "  isLabeledData = input(\"Do you have labeled data?\\nPlease input [Y] or [N]: \\n\");\n",
        "  isLabeledData = isLabeledData.upper();\n",
        "  if (isLabeledData == 'Y'):\n",
        "    while True:\n",
        "      print(\"Your answer is labeled data, therefore it should be using Supervised learning.\\n\");\n",
        "      isCategoryOrQuantityData = input(\"Are these labeled data with Category or Quantity?\\nPlease input [C] or [Q]: \\n\");\n",
        "      isCategoryOrQuantityData = isCategoryOrQuantityData.upper();\n",
        "      if (isCategoryOrQuantityData == 'C'):\n",
        "        print(\"Your answer is Category, therefore the answer is that your Labeled Data is Classification.\\nAnd the suggestion algorithm is below:\");\n",
        "        print(\"Neural Network\\nLogistic Regression\\nRandom Forest\\nNaive Bayes\\nSupport Vector Machine\");\n",
        "        labelDataFlag = False;\n",
        "        break;\n",
        "      elif (isCategoryOrQuantityData == 'Q'):\n",
        "        print(\"Your answer is Quantity, therefore the answer is that your Labeled Data is Regression.\\nAnd the suggestion algorithm is below:\");\n",
        "        print(\"Support Vector Machine\\nNeural Network\\nRidge Regression\\nRandom Forest\\nLasso\");\n",
        "        labelDataFlag = False;\n",
        "        break;\n",
        "      else:\n",
        "        print(\"Your input is incorrect, neither Category or Quantity, please try again.\\n\\n\");\n",
        "  elif (isLabeledData == 'N'):\n",
        "    while True:\n",
        "      print(\"Your answer is NOT labeled data, therefore it should be using Unsupervised learning.\\n\");\n",
        "      isGroupOrLowerDimData = input(\"Are these unlabeled data with Group or Lower Dim?\\nPlease input [G] or [L]: \\n\");\n",
        "      isGroupOrLowerDimData = isGroupOrLowerDimData.upper();\n",
        "      if (isGroupOrLowerDimData == 'G'):\n",
        "        print(\"Your answer is Group, therefore the answer is that your Unlabeled Data is Clustering.\\nAnd the suggestion algorithm is below:\");\n",
        "        print(\"K-means\\nGaussian Mixture\\nDBSCAN\\nSpectral Clustering\\nHierarchical Clustering\");\n",
        "        labelDataFlag = False;\n",
        "        break;\n",
        "      elif (isGroupOrLowerDimData == 'L'):\n",
        "        print(\"Your answer is Lower Dim, therefore the answer is that your Unlabeled Data is Dimensionality reduction.\\nAnd the suggestion algorithm is below:\");\n",
        "        print(\"PCA\\nLDA\\nIsomap\\nAutoencoder\");\n",
        "        labelDataFlag = False;\n",
        "        break;\n",
        "      else:\n",
        "        print(\"Your input is incorrect, neither Group or Lower Dim, please try again.\\n\\n\");\n",
        "  else:\n",
        "    print(\"Your input is incorrect, please confirm if your have Labeled data, please try again.\\n\\n\");"
      ]
    },
    {
      "cell_type": "code",
      "execution_count": null,
      "metadata": {
        "id": "VcW2MJC1hv4_"
      },
      "outputs": [],
      "source": []
    }
  ],
  "metadata": {
    "colab": {
      "authorship_tag": "ABX9TyO665Jtc4ZK8yGSTS1Fu7gx",
      "include_colab_link": true,
      "provenance": []
    },
    "kernelspec": {
      "display_name": "Python 3",
      "name": "python3"
    },
    "language_info": {
      "name": "python"
    }
  },
  "nbformat": 4,
  "nbformat_minor": 0
}
