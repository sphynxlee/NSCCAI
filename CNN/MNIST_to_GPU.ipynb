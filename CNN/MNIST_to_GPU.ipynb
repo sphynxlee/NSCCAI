{
  "nbformat": 4,
  "nbformat_minor": 0,
  "metadata": {
    "colab": {
      "provenance": [],
      "gpuType": "T4"
    },
    "kernelspec": {
      "name": "python3",
      "display_name": "Python 3"
    },
    "language_info": {
      "name": "python"
    },
    "accelerator": "GPU"
  },
  "cells": [
    {
      "cell_type": "code",
      "execution_count": 1,
      "metadata": {
        "id": "b4QLcG1dCqN8"
      },
      "outputs": [],
      "source": [
        "import torch\n",
        "from torch import nn,optim\n",
        "from torchvision import datasets,transforms\n",
        "from torch.utils.data import dataloader\n",
        "import matplotlib.pyplot as plt\n",
        "from tqdm import tqdm\n",
        "\n",
        "\n",
        "\n",
        "\n"
      ]
    },
    {
      "cell_type": "code",
      "source": [
        "my_transform = transforms.Compose([transforms.ToTensor(),transforms.Lambda(lambda img: img.reshape(784))])"
      ],
      "metadata": {
        "id": "isBOSu29EqUs"
      },
      "execution_count": 2,
      "outputs": []
    },
    {
      "cell_type": "code",
      "source": [
        "training_set = datasets.MNIST(root=\"data\",train=True,transform=my_transform,download=True)\n",
        "testing_set  = datasets.MNIST(root=\"data\",train=False,transform=my_transform,download=True)\n"
      ],
      "metadata": {
        "colab": {
          "base_uri": "https://localhost:8080/"
        },
        "id": "ITpWiSdDDkBP",
        "outputId": "4af68488-fd47-40d6-fbeb-c3f908c2f89e"
      },
      "execution_count": 3,
      "outputs": [
        {
          "output_type": "stream",
          "name": "stdout",
          "text": [
            "Downloading http://yann.lecun.com/exdb/mnist/train-images-idx3-ubyte.gz\n",
            "Downloading http://yann.lecun.com/exdb/mnist/train-images-idx3-ubyte.gz to data/MNIST/raw/train-images-idx3-ubyte.gz\n"
          ]
        },
        {
          "output_type": "stream",
          "name": "stderr",
          "text": [
            "100%|██████████| 9912422/9912422 [00:00<00:00, 34509165.83it/s]\n"
          ]
        },
        {
          "output_type": "stream",
          "name": "stdout",
          "text": [
            "Extracting data/MNIST/raw/train-images-idx3-ubyte.gz to data/MNIST/raw\n",
            "\n",
            "Downloading http://yann.lecun.com/exdb/mnist/train-labels-idx1-ubyte.gz\n",
            "Downloading http://yann.lecun.com/exdb/mnist/train-labels-idx1-ubyte.gz to data/MNIST/raw/train-labels-idx1-ubyte.gz\n"
          ]
        },
        {
          "output_type": "stream",
          "name": "stderr",
          "text": [
            "100%|██████████| 28881/28881 [00:00<00:00, 118644166.33it/s]\n"
          ]
        },
        {
          "output_type": "stream",
          "name": "stdout",
          "text": [
            "Extracting data/MNIST/raw/train-labels-idx1-ubyte.gz to data/MNIST/raw\n",
            "\n",
            "Downloading http://yann.lecun.com/exdb/mnist/t10k-images-idx3-ubyte.gz\n",
            "Downloading http://yann.lecun.com/exdb/mnist/t10k-images-idx3-ubyte.gz to data/MNIST/raw/t10k-images-idx3-ubyte.gz\n"
          ]
        },
        {
          "output_type": "stream",
          "name": "stderr",
          "text": [
            "100%|██████████| 1648877/1648877 [00:00<00:00, 35673565.23it/s]\n"
          ]
        },
        {
          "output_type": "stream",
          "name": "stdout",
          "text": [
            "Extracting data/MNIST/raw/t10k-images-idx3-ubyte.gz to data/MNIST/raw\n",
            "\n",
            "Downloading http://yann.lecun.com/exdb/mnist/t10k-labels-idx1-ubyte.gz\n",
            "Downloading http://yann.lecun.com/exdb/mnist/t10k-labels-idx1-ubyte.gz to data/MNIST/raw/t10k-labels-idx1-ubyte.gz\n"
          ]
        },
        {
          "output_type": "stream",
          "name": "stderr",
          "text": [
            "100%|██████████| 4542/4542 [00:00<00:00, 5834771.45it/s]"
          ]
        },
        {
          "output_type": "stream",
          "name": "stdout",
          "text": [
            "Extracting data/MNIST/raw/t10k-labels-idx1-ubyte.gz to data/MNIST/raw\n",
            "\n"
          ]
        },
        {
          "output_type": "stream",
          "name": "stderr",
          "text": [
            "\n"
          ]
        }
      ]
    },
    {
      "cell_type": "code",
      "source": [
        "DEVICE = torch.device('cuda' if torch.cuda.is_available() else 'cpu')\n",
        "BATCH_SIZE = 16"
      ],
      "metadata": {
        "id": "YnVcX2NypHDb"
      },
      "execution_count": 32,
      "outputs": []
    },
    {
      "cell_type": "code",
      "source": [
        "class PyTeen(nn.Module):\n",
        "  def __init__(self):\n",
        "    super().__init__()\n",
        "    self.layers = nn.Sequential(\n",
        "        nn.Linear(784,512),\n",
        "        nn.ReLU(),\n",
        "        nn.Linear(512,512),\n",
        "        nn.ReLU(),\n",
        "        nn.Linear(512,10)\n",
        "    )\n",
        "    self.loss = nn.CrossEntropyLoss()\n",
        "    self.optimizer = optim.Adam(self.parameters())\n",
        "   #self.to(torch.device(DEVICE)) #gpu\n",
        "\n",
        "  def forward(self,input):\n",
        "    return(self.layers(input))\n",
        "\n",
        "  def predict(self,input):\n",
        "    with torch.no_grad():\n",
        "      pred = self.forward(input)\n",
        "      return(torch.argmax(pred,axis=-1))\n",
        "\n",
        "  def train(self,input,label):\n",
        "    self.optimizer.zero_grad()\n",
        "    pred = self.forward(input)\n",
        "    loss = self.loss(pred,label)\n",
        "    loss.backward()\n",
        "    self.optimizer.step()\n",
        "    return(loss)\n",
        "\n",
        "\n"
      ],
      "metadata": {
        "id": "deOjWb6rFAly"
      },
      "execution_count": 33,
      "outputs": []
    },
    {
      "cell_type": "code",
      "source": [
        "training_loader = dataloader.DataLoader(training_set,batch_size=BATCH_SIZE,shuffle=True)\n",
        "testing_loader = dataloader.DataLoader(testing_set,batch_size=BATCH_SIZE,shuffle=False)"
      ],
      "metadata": {
        "id": "6DZR2dWppmSQ"
      },
      "execution_count": 34,
      "outputs": []
    },
    {
      "cell_type": "code",
      "source": [
        "network = PyTeen()\n",
        "network.to(torch.device(DEVICE))\n"
      ],
      "metadata": {
        "colab": {
          "base_uri": "https://localhost:8080/"
        },
        "id": "Q_QC2YjGqYMP",
        "outputId": "f6254677-197f-4033-8ae0-1c3119884f9b"
      },
      "execution_count": 35,
      "outputs": [
        {
          "output_type": "execute_result",
          "data": {
            "text/plain": [
              "PyTeen(\n",
              "  (layers): Sequential(\n",
              "    (0): Linear(in_features=784, out_features=512, bias=True)\n",
              "    (1): ReLU()\n",
              "    (2): Linear(in_features=512, out_features=512, bias=True)\n",
              "    (3): ReLU()\n",
              "    (4): Linear(in_features=512, out_features=10, bias=True)\n",
              "  )\n",
              "  (loss): CrossEntropyLoss()\n",
              ")"
            ]
          },
          "metadata": {},
          "execution_count": 35
        }
      ]
    },
    {
      "cell_type": "code",
      "source": [
        "# training loop\n",
        "# we need to make the tensors all .to(torch.device('cuda'))\n",
        "EPOCHS = 10\n",
        "\n",
        "for i in range(EPOCHS):\n",
        "  total_loss = 0\n",
        "  for input,label in tqdm(training_loader):\n",
        "      input = input.to(torch.device(DEVICE))\n",
        "      label = label.to(torch.device(DEVICE))\n",
        "\n",
        "      loss = network.train(input,label)\n",
        "      total_loss += loss\n",
        "  print(\"EPOCH:\",i+1,\": \",total_loss)\n",
        "\n",
        "\n",
        "\n"
      ],
      "metadata": {
        "id": "ZLgNUND-H4RK",
        "colab": {
          "base_uri": "https://localhost:8080/"
        },
        "outputId": "dee078e8-00d1-4dd6-baac-b0d9b5941266"
      },
      "execution_count": 36,
      "outputs": [
        {
          "output_type": "stream",
          "name": "stderr",
          "text": [
            "100%|██████████| 3750/3750 [00:14<00:00, 251.75it/s]\n"
          ]
        },
        {
          "output_type": "stream",
          "name": "stdout",
          "text": [
            "EPOCH: 1 :  tensor(725.2255, device='cuda:0', grad_fn=<AddBackward0>)\n"
          ]
        },
        {
          "output_type": "stream",
          "name": "stderr",
          "text": [
            "100%|██████████| 3750/3750 [00:14<00:00, 253.66it/s]\n"
          ]
        },
        {
          "output_type": "stream",
          "name": "stdout",
          "text": [
            "EPOCH: 2 :  tensor(322.3915, device='cuda:0', grad_fn=<AddBackward0>)\n"
          ]
        },
        {
          "output_type": "stream",
          "name": "stderr",
          "text": [
            "100%|██████████| 3750/3750 [00:14<00:00, 254.74it/s]\n"
          ]
        },
        {
          "output_type": "stream",
          "name": "stdout",
          "text": [
            "EPOCH: 3 :  tensor(236.0755, device='cuda:0', grad_fn=<AddBackward0>)\n"
          ]
        },
        {
          "output_type": "stream",
          "name": "stderr",
          "text": [
            "100%|██████████| 3750/3750 [00:14<00:00, 251.77it/s]\n"
          ]
        },
        {
          "output_type": "stream",
          "name": "stdout",
          "text": [
            "EPOCH: 4 :  tensor(183.6461, device='cuda:0', grad_fn=<AddBackward0>)\n"
          ]
        },
        {
          "output_type": "stream",
          "name": "stderr",
          "text": [
            "100%|██████████| 3750/3750 [00:14<00:00, 250.05it/s]\n"
          ]
        },
        {
          "output_type": "stream",
          "name": "stdout",
          "text": [
            "EPOCH: 5 :  tensor(153.6123, device='cuda:0', grad_fn=<AddBackward0>)\n"
          ]
        },
        {
          "output_type": "stream",
          "name": "stderr",
          "text": [
            "100%|██████████| 3750/3750 [00:14<00:00, 253.59it/s]\n"
          ]
        },
        {
          "output_type": "stream",
          "name": "stdout",
          "text": [
            "EPOCH: 6 :  tensor(125.8582, device='cuda:0', grad_fn=<AddBackward0>)\n"
          ]
        },
        {
          "output_type": "stream",
          "name": "stderr",
          "text": [
            "100%|██████████| 3750/3750 [00:15<00:00, 246.56it/s]\n"
          ]
        },
        {
          "output_type": "stream",
          "name": "stdout",
          "text": [
            "EPOCH: 7 :  tensor(115.1066, device='cuda:0', grad_fn=<AddBackward0>)\n"
          ]
        },
        {
          "output_type": "stream",
          "name": "stderr",
          "text": [
            "100%|██████████| 3750/3750 [00:15<00:00, 241.00it/s]\n"
          ]
        },
        {
          "output_type": "stream",
          "name": "stdout",
          "text": [
            "EPOCH: 8 :  tensor(106.9534, device='cuda:0', grad_fn=<AddBackward0>)\n"
          ]
        },
        {
          "output_type": "stream",
          "name": "stderr",
          "text": [
            "100%|██████████| 3750/3750 [00:14<00:00, 250.57it/s]\n"
          ]
        },
        {
          "output_type": "stream",
          "name": "stdout",
          "text": [
            "EPOCH: 9 :  tensor(95.5028, device='cuda:0', grad_fn=<AddBackward0>)\n"
          ]
        },
        {
          "output_type": "stream",
          "name": "stderr",
          "text": [
            "100%|██████████| 3750/3750 [00:14<00:00, 254.66it/s]"
          ]
        },
        {
          "output_type": "stream",
          "name": "stdout",
          "text": [
            "EPOCH: 10 :  tensor(85.6999, device='cuda:0', grad_fn=<AddBackward0>)\n"
          ]
        },
        {
          "output_type": "stream",
          "name": "stderr",
          "text": [
            "\n"
          ]
        }
      ]
    },
    {
      "cell_type": "code",
      "source": [
        "# evaluation loop\n",
        "# we need to make the tensors all .to(torch.device('cuda'))\n",
        "num_corrects = 0\n",
        "for input,label in tqdm(testing_loader):\n",
        "  input = input.to(torch.device(DEVICE))\n",
        "  label = label.to(torch.device(DEVICE))\n",
        "  pred = network.predict(input)\n",
        "  for i in range(len(pred)):\n",
        "    if(pred[i] == label[i]):\n",
        "      num_corrects += 1\n",
        "print('\\n',num_corrects/(len(testing_loader)*BATCH_SIZE))\n"
      ],
      "metadata": {
        "id": "8hWG8JVTJyHU",
        "colab": {
          "base_uri": "https://localhost:8080/"
        },
        "outputId": "41b421dc-5a8d-4c25-d0a1-96cd0bcba72e"
      },
      "execution_count": 37,
      "outputs": [
        {
          "output_type": "stream",
          "name": "stderr",
          "text": [
            "100%|██████████| 625/625 [00:02<00:00, 287.44it/s]"
          ]
        },
        {
          "output_type": "stream",
          "name": "stdout",
          "text": [
            "\n",
            " 0.9818\n"
          ]
        },
        {
          "output_type": "stream",
          "name": "stderr",
          "text": [
            "\n"
          ]
        }
      ]
    }
  ]
}